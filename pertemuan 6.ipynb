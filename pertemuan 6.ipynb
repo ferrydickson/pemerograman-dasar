{
  "nbformat": 4,
  "nbformat_minor": 0,
  "metadata": {
    "colab": {
      "provenance": [],
      "authorship_tag": "ABX9TyOJmmXifo8qiWOsM0xb6ML4",
      "include_colab_link": true
    },
    "kernelspec": {
      "name": "python3",
      "display_name": "Python 3"
    },
    "language_info": {
      "name": "python"
    }
  },
  "cells": [
    {
      "cell_type": "markdown",
      "metadata": {
        "id": "view-in-github",
        "colab_type": "text"
      },
      "source": [
        "<a href=\"https://colab.research.google.com/github/ferrydickson/pemerograman-dasar/blob/main/pertemuan%206.ipynb\" target=\"_parent\"><img src=\"https://colab.research.google.com/assets/colab-badge.svg\" alt=\"Open In Colab\"/></a>"
      ]
    },
    {
      "cell_type": "code",
      "source": [
        "# SOAL 1: Fungsi Inisialisasi Sederhana\n",
        "def sapa_praktikan():\n",
        "    \"\"\"Mencetak pesan sambutan dasar.\"\"\"\n",
        "    print(\"Sistem siap. Selamat datang kembali di sesi praktikum.\")\n",
        "\n",
        "# Modifikasi: Fungsi untuk menampilkan Biodata Lengkap\n",
        "def tampilkan_biodata():\n",
        "    \"\"\"Menampilkan biodata lengkap praktikan.\"\"\"\n",
        "    print(\"\" + \"=\"*50)\n",
        "    print(\"BIODATA PRAKTIKAN\")\n",
        "    print(\"=\"*50)\n",
        "    print(f\"Nama Lengkap   : Ferry Dickson Kristianto Togatorop\")\n",
        "    print(f\"NIM            : 4232411035\")\n",
        "    print(f\"Program Studi  : Teknik Rekayasa Pembangkit Energi\")\n",
        "    print(f\"Fakultas       : Fakultas Teknik Elektro\")\n",
        "    print(f\"Universitas    : Politeknik Negeri Batam\")\n",
        "    print(f\"Angkatan       : 2024\")\n",
        "    print(f\"Hobi           : Badminton\")\n",
        "    print(f\"Email          : ferrydickson51@gmail.com\")\n",
        "    print(f\"No. HP         : 081276809010\")\n",
        "    print(\"=\"*50)\n",
        "\n",
        "# Pemanggilan fungsi sapa_praktikan\n",
        "sapa_praktikan()\n",
        "\n",
        "# Pemanggilan fungsi biodata\n",
        "tampilkan_biodata()"
      ],
      "metadata": {
        "id": "qaB49QML4wy4",
        "colab": {
          "base_uri": "https://localhost:8080/"
        },
        "outputId": "3b2c07df-cf95-4185-8f59-6c7d2f8763cc"
      },
      "execution_count": 13,
      "outputs": [
        {
          "output_type": "stream",
          "name": "stdout",
          "text": [
            "Sistem siap. Selamat datang kembali di sesi praktikum.\n",
            "==================================================\n",
            "BIODATA PRAKTIKAN\n",
            "==================================================\n",
            "Nama Lengkap   : Ferry Dickson Kristianto Togatorop\n",
            "NIM            : 4232411035\n",
            "Program Studi  : Teknik Rekayasa Pembangkit Energi\n",
            "Fakultas       : Fakultas Teknik Elektro\n",
            "Universitas    : Politeknik Negeri Batam\n",
            "Angkatan       : 2024\n",
            "Hobi           : Badminton\n",
            "Email          : ferrydickson51@gmail.com\n",
            "No. HP         : 081276809010\n",
            "==================================================\n"
          ]
        }
      ]
    },
    {
      "cell_type": "code",
      "source": [
        "# SOAL 2: Menghitung Volume Kubus\n",
        "def hitung_volume_kubus(sisi):\n",
        "    \"\"\"Menghitung volume kubus dari panjang sisinya.\"\"\"\n",
        "    return sisi ** 3\n",
        "\n",
        "# Modifikasi: Fungsi untuk menghitung volume balok\n",
        "def hitung_volume_balok(panjang, lebar, tinggi):\n",
        "    \"Menghitung volume balok dari panjang, lebar, dan tinggi.\"\n",
        "    return panjang * lebar * tinggi\n",
        "\n",
        "# Pemanggilan fungsi kubus:\n",
        "panjang_sisi = 5\n",
        "print(f\"Volume kubus dengan sisi {panjang_sisi} adalah: {hitung_volume_kubus(panjang_sisi)}\")\n",
        "\n",
        "# Pemanggilan fungsi balok:\n",
        "print(f\"--- Modifikasi: Volume Balok ---\")\n",
        "p = 8\n",
        "l = 4\n",
        "t = 3\n",
        "print(f\"Volume balok dengan panjang {p}, lebar {l}, tinggi {t} adalah: {hitung_volume_balok(p, l, t)}\")"
      ],
      "metadata": {
        "colab": {
          "base_uri": "https://localhost:8080/"
        },
        "id": "OCHs2ZV-5LsL",
        "outputId": "0f1e68c2-68f3-42ae-fd9b-839f8ac5fc50"
      },
      "execution_count": 16,
      "outputs": [
        {
          "output_type": "stream",
          "name": "stdout",
          "text": [
            "Volume kubus dengan sisi 5 adalah: 125\n",
            "--- Modifikasi: Volume Balok ---\n",
            "Volume balok dengan panjang 8, lebar 4, tinggi 3 adalah: 96\n"
          ]
        }
      ]
    },
    {
      "cell_type": "code",
      "source": [
        "# SOAL 3: Menghitung Rata-rata dari List Nilai\n",
        "def hitung_rata_rata(data_nilai):\n",
        "    \"\"\"Menghitung rata-rata dari list angka menggunakan perulangan for.\"\"\"\n",
        "    total = 0\n",
        "    jumlah_nilai_valid = 0\n",
        "\n",
        "    # Perulangan untuk menjumlahkan nilai dengan pengecekan\n",
        "    for nilai in data_nilai:\n",
        "        # Pengecekan nilai valid (0-100)\n",
        "        if nilai < 0:\n",
        "            # Mengabaikan nilai negatif\n",
        "            continue\n",
        "        elif nilai > 100:\n",
        "            # Memberikan penalti - mengurangi 10 poin untuk nilai di atas 100\n",
        "            nilai_termodifikasi = nilai - 10\n",
        "            total += nilai_termodifikasi\n",
        "            jumlah_nilai_valid += 1\n",
        "        else:\n",
        "            # Nilai normal (0-100)\n",
        "            total += nilai\n",
        "            jumlah_nilai_valid += 1\n",
        "\n",
        "    # Pembagian untuk rata-rata\n",
        "    if jumlah_nilai_valid > 0:\n",
        "        return total / jumlah_nilai_valid\n",
        "    return 0\n",
        "\n",
        "# Pemanggilan:\n",
        "nilai_praktikan = [85, 78, 92, 65, 90]\n",
        "print(f\"Nilai rata-rata kelas adalah: {hitung_rata_rata(nilai_praktikan)}\")\n",
        "\n",
        "# Test case dengan nilai tidak valid\n",
        "nilai_tidak_valid = [85, 78, -5, 92, 65, 110, 90]\n",
        "print(f\"Nilai rata-rata dengan data tidak valid: {hitung_rata_rata(nilai_tidak_valid)}\")"
      ],
      "metadata": {
        "colab": {
          "base_uri": "https://localhost:8080/"
        },
        "id": "Pz5MvPm85N-b",
        "outputId": "f061d762-95b6-4cca-efd6-beb62dc3c88a"
      },
      "execution_count": 17,
      "outputs": [
        {
          "output_type": "stream",
          "name": "stdout",
          "text": [
            "Nilai rata-rata kelas adalah: 82.0\n",
            "Nilai rata-rata dengan data tidak valid: 85.0\n"
          ]
        }
      ]
    },
    {
      "cell_type": "code",
      "source": [
        "# SOAL 4: Sistem Penentuan Predikat Nilai\n",
        "def tentukan_predikat(skor):\n",
        "    \"\"\"Menentukan predikat (A, B, C, D, E) berdasarkan skor.\"\"\"\n",
        "    # Pengecekan tipe data\n",
        "    if not isinstance(skor, (int, float)):\n",
        "        return \"Error: Input harus numerik (int/float)\"\n",
        "\n",
        "    # Pengecekan rentang nilai valid\n",
        "    if skor < 0 or skor > 100:\n",
        "        return \"Error: Skor harus antara 0-100\"\n",
        "\n",
        "    if skor >= 85:\n",
        "        return \"A\"\n",
        "    elif skor >= 70:\n",
        "        return \"B\"\n",
        "    elif skor >= 60:\n",
        "        return \"C\"\n",
        "    elif skor >= 50:\n",
        "        return \"D\"\n",
        "    else:\n",
        "        return \"E\"\n",
        "\n",
        "# Pemanggilan:\n",
        "print(f\"Skor 75 mendapat predikat: {tentukan_predikat(75)}\")\n",
        "print(f\"Skor 48 mendapat predikat: {tentukan_predikat(48)}\")\n",
        "print(f\"Skor 92 mendapat predikat: {tentukan_predikat(92)}\")\n",
        "print(f\"Skor 65 mendapat predikat: {tentukan_predikat(65)}\")\n",
        "print(f\"Skor 55 mendapat predikat: {tentukan_predikat(55)}\")\n"
      ],
      "metadata": {
        "colab": {
          "base_uri": "https://localhost:8080/"
        },
        "id": "k1e44hN-792a",
        "outputId": "8ebe0723-9b37-4ba3-ad63-8a90ac3091a8"
      },
      "execution_count": 18,
      "outputs": [
        {
          "output_type": "stream",
          "name": "stdout",
          "text": [
            "Skor 75 mendapat predikat: B\n",
            "Skor 48 mendapat predikat: E\n",
            "Skor 92 mendapat predikat: A\n",
            "Skor 65 mendapat predikat: C\n",
            "Skor 55 mendapat predikat: D\n"
          ]
        }
      ]
    },
    {
      "cell_type": "code",
      "source": [
        "# SOAL 5: Menghitung Faktorial dengan Loop While\n",
        "def hitung_faktorial(n):\n",
        "    \"\"\"Menghitung faktorial dari bilangan positif n.\"\"\"\n",
        "    # Penanganan kasus khusus\n",
        "    if n < 0:\n",
        "        return \"Error: Faktorial tidak terdefinisi untuk bilangan negatif\"\n",
        "    elif n == 0:\n",
        "        return 1  # 0! = 1 (definisi matematika)\n",
        "\n",
        "    hasil = 1\n",
        "\n",
        "    # Perulangan berjalan selama n lebih besar dari 1\n",
        "    while n > 1:\n",
        "        hasil *= n\n",
        "        n -= 1  # Kurangi n\n",
        "    return hasil\n",
        "\n",
        "# Pemanggilan:\n",
        "bilangan_n = 4\n",
        "print(f\"Faktorial dari {bilangan_n} adalah: {hitung_faktorial(bilangan_n)}\")  # Output: 24\n",
        "\n",
        "# Test case untuk modifikasi\n",
        "print(f\"--- Test Modifikasi ---\")\n",
        "print(f\"Faktorial dari 0 adalah: {hitung_faktorial(0)}\")      # Output: 1\n",
        "print(f\"Faktorial dari 1 adalah: {hitung_faktorial(1)}\")      # Output: 1\n",
        "print(f\"Faktorial dari 5 adalah: {hitung_faktorial(5)}\")      # Output: 120\n",
        "print(f\"Faktorial dari -3 adalah: {hitung_faktorial(-3)}\")    # Output: Error\n",
        "print(f\"Faktorial dari 7 adalah: {hitung_faktorial(7)}\")      # Output: 5040"
      ],
      "metadata": {
        "colab": {
          "base_uri": "https://localhost:8080/"
        },
        "id": "MRflAJ5n8HGT",
        "outputId": "b0baecc9-2429-41aa-95ff-26b9fcae1ed3"
      },
      "execution_count": 20,
      "outputs": [
        {
          "output_type": "stream",
          "name": "stdout",
          "text": [
            "Faktorial dari 4 adalah: 24\n",
            "--- Test Modifikasi ---\n",
            "Faktorial dari 0 adalah: 1\n",
            "Faktorial dari 1 adalah: 1\n",
            "Faktorial dari 5 adalah: 120\n",
            "Faktorial dari -3 adalah: Error: Faktorial tidak terdefinisi untuk bilangan negatif\n",
            "Faktorial dari 7 adalah: 5040\n"
          ]
        }
      ]
    },
    {
      "cell_type": "code",
      "source": [
        "# SOAL 6: Analisis Data Suhu Ekstrem (for dan if/elif)\n",
        "def analisis_suhu(data_suhu, batas_panas=35, batas_dingin=15):\n",
        "    \"\"\"Menghitung jumlah hari Panas dan Dingin dari data_suhu.\"\"\"\n",
        "    panas_count = 0\n",
        "    dingin_count = 0\n",
        "\n",
        "    for suhu in data_suhu:\n",
        "        if suhu >= batas_panas:\n",
        "            panas_count += 1\n",
        "        elif suhu <= batas_dingin:\n",
        "            dingin_count += 1\n",
        "\n",
        "    return panas_count, dingin_count\n",
        "\n",
        "# Pemanggilan:\n",
        "suhu_mingguan = [36, 30, 14, 25, 38, 16, 28]\n",
        "jumlah_panas, jumlah_dingin = analisis_suhu(suhu_mingguan)\n",
        "print(f\"Jumlah hari Panas (>=35°C): {jumlah_panas}\")\n",
        "print(f\"Jumlah hari Dingin (<=15°C): {jumlah_dingin}\")\n",
        "\n",
        "# Test modifikasi dengan parameter opsional\n",
        "print(f\"--- Modifikasi: Parameter Opsional ---\")\n",
        "# Menggunakan nilai default\n",
        "print(\"Menggunakan nilai default (35°C dan 15°C):\")\n",
        "jumlah_panas1, jumlah_dingin1 = analisis_suhu(suhu_mingguan)\n",
        "print(f\"Panas: {jumlah_panas1}, Dingin: {jumlah_dingin1}\")\n",
        "\n",
        "# Mengubah batas_panas saja\n",
        "print(\"Mengubah batas_panas menjadi 30°C:\")\n",
        "jumlah_panas2, jumlah_dingin2 = analisis_suhu(suhu_mingguan, batas_panas=30)\n",
        "print(f\"Panas: {jumlah_panas2}, Dingin: {jumlah_dingin2}\")\n",
        "\n",
        "# Mengubah kedua batas\n",
        "print(\"Mengubah batas_panas=38 dan batas_dingin=20:\")\n",
        "jumlah_panas3, jumlah_dingin3 = analisis_suhu(suhu_mingguan, batas_panas=38, batas_dingin=20)\n",
        "print(f\"Panas: {jumlah_panas3}, Dingin: {jumlah_dingin3}\")"
      ],
      "metadata": {
        "colab": {
          "base_uri": "https://localhost:8080/"
        },
        "id": "fo-CBlis89Z0",
        "outputId": "15c196ad-9b3f-4817-a020-7d8225f4ace3"
      },
      "execution_count": 22,
      "outputs": [
        {
          "output_type": "stream",
          "name": "stdout",
          "text": [
            "Jumlah hari Panas (>=35°C): 2\n",
            "Jumlah hari Dingin (<=15°C): 1\n",
            "--- Modifikasi: Parameter Opsional ---\n",
            "Menggunakan nilai default (35°C dan 15°C):\n",
            "Panas: 2, Dingin: 1\n",
            "Mengubah batas_panas menjadi 30°C:\n",
            "Panas: 3, Dingin: 1\n",
            "Mengubah batas_panas=38 dan batas_dingin=20:\n",
            "Panas: 1, Dingin: 2\n"
          ]
        }
      ]
    }
  ]
}