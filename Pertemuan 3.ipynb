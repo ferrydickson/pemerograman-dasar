{
  "nbformat": 4,
  "nbformat_minor": 0,
  "metadata": {
    "colab": {
      "provenance": [],
      "authorship_tag": "ABX9TyOgGEJltuNy7jkyfytJDZA3",
      "include_colab_link": true
    },
    "kernelspec": {
      "name": "python3",
      "display_name": "Python 3"
    },
    "language_info": {
      "name": "python"
    }
  },
  "cells": [
    {
      "cell_type": "markdown",
      "metadata": {
        "id": "view-in-github",
        "colab_type": "text"
      },
      "source": [
        "<a href=\"https://colab.research.google.com/github/ferrydickson/pemerograman-dasar/blob/main/Pertemuan%203.ipynb\" target=\"_parent\"><img src=\"https://colab.research.google.com/assets/colab-badge.svg\" alt=\"Open In Colab\"/></a>"
      ]
    },
    {
      "cell_type": "code",
      "execution_count": 16,
      "metadata": {
        "colab": {
          "base_uri": "https://localhost:8080/"
        },
        "id": "VxqN50-5O729",
        "outputId": "89eebde0-e965-4fd1-915f-9d23dbcb2086"
      },
      "outputs": [
        {
          "output_type": "stream",
          "name": "stdout",
          "text": [
            "=== PROGRAM KASIR KEDAI KOPI SEDERHANA ===\n",
            "Harga_Kopi: RP  25,000\n",
            "Harga_Roti: RP 15,000\n",
            "Harga_Pasta: 35,000\n",
            "Jumlah_Kopi: 3\n",
            "Jumlah_Roti: 2\n",
            "Jumlah_Pasta: 1\n",
            "Status_Member: YA\n",
            "========================================\n",
            "1. Subtotal: Rp 140,000\n",
            "2. Syarat Diskon: Member=True AND Subtotal>100.000=True\n",
            "   Diskon Diberikan: Ya\n",
            "3. Jumlah Diskon: Rp 21,000.0\n",
            "4. Harga Setelah Diskon: Rp 119,000.0\n",
            "5. PPN (11%): Rp 13,090\n",
            "6. Total Akhir: Rp 132,090\n",
            "========================================\n",
            "TOTAL YANG HARUS DIBAYAR: Rp 132,090\n"
          ]
        }
      ],
      "source": [
        "# PROGRAM KASIR KEDAI KOPI SEDERHANA\n",
        "\n",
        "# data input variabel\n",
        "harga_kopi = 25000\n",
        "harga_roti = 15000\n",
        "harga_pasta = 35000\n",
        "jumlah_kopi = 3\n",
        "jumlah_roti = 2\n",
        "jumlah_pasta = 1\n",
        "is_member = True  # True jika member , False jika bukan\n",
        "\n",
        "print(\"=== PROGRAM KASIR KEDAI KOPI SEDERHANA ===\")\n",
        "print(f\"Harga_Kopi: RP  {harga_kopi:,}\")\n",
        "print(f\"Harga_Roti: RP {harga_roti:,}\")\n",
        "print(f\"Harga_Pasta: {harga_pasta:,}\")\n",
        "print(f\"Jumlah_Kopi: {jumblah_kopi:,}\")\n",
        "print(f\"Jumlah_Roti: {jumlah_roti:,}\")\n",
        "print(f\"Jumlah_Pasta: {jumlah_pasta:,}\")\n",
        "print(f\"Status_Member: {'YA' if is_member else 'TIDAK'}\")\n",
        "print(f\"=\" * 40)\n",
        "\n",
        "# 1. Hitung Subtotal\n",
        "subtotal = (harga_kopi * jumlah_kopi) + (harga_roti * jumlah_roti) + (harga_pasta * jumlah_pasta)\n",
        "print(f\"1. Subtotal: Rp {subtotal:,}\")\n",
        "\n",
        "# 2. Evaluasi Syarat Diskon\n",
        "diskon_diberikan = is_member and subtotal > 100000\n",
        "print(f\"2. Syarat Diskon: Member={is_member} AND Subtotal>100.000={subtotal>100000}\")\n",
        "print(f\"   Diskon Diberikan: {'Ya' if diskon_diberikan else 'Tidak'}\")\n",
        "\n",
        "# 3. Hitung Jumlah Diskon\n",
        "if diskon_diberikan:\n",
        "    jumlah_diskon = subtotal * 0.15  # 15% diskon\n",
        "else:\n",
        "    jumlah_diskon = 0\n",
        "print(f\"3. Jumlah Diskon: Rp {jumlah_diskon:,}\")\n",
        "\n",
        "# 4. Hitung Harga Setelah Diskon\n",
        "harga_setelah_diskon = subtotal - jumlah_diskon\n",
        "print(f\"4. Harga Setelah Diskon: Rp {harga_setelah_diskon:,}\")\n",
        "\n",
        "# 5. Hitung PPN\n",
        "ppn = harga_setelah_diskon * 0.11  # 11% PPN\n",
        "print(f\"5. PPN (11%): Rp {ppn:,.0f}\")\n",
        "\n",
        "# 6. Hitung Total Akhir\n",
        "total_akhir = harga_setelah_diskon + ppn\n",
        "print(f\"6. Total Akhir: Rp {total_akhir:,.0f}\")\n",
        "\n",
        "print(\"=\" * 40)\n",
        "print(f\"TOTAL YANG HARUS DIBAYAR: Rp {total_akhir:,.0f}\")"
      ]
    },
    {
      "cell_type": "code",
      "source": [],
      "metadata": {
        "id": "wy4Pzt1eUs_6"
      },
      "execution_count": 17,
      "outputs": []
    }
  ]
}