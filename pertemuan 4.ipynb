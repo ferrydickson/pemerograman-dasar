{
  "nbformat": 4,
  "nbformat_minor": 0,
  "metadata": {
    "colab": {
      "provenance": [],
      "authorship_tag": "ABX9TyORysDyoLuAl3VOY9dz2v61",
      "include_colab_link": true
    },
    "kernelspec": {
      "name": "python3",
      "display_name": "Python 3"
    },
    "language_info": {
      "name": "python"
    }
  },
  "cells": [
    {
      "cell_type": "markdown",
      "metadata": {
        "id": "view-in-github",
        "colab_type": "text"
      },
      "source": [
        "<a href=\"https://colab.research.google.com/github/ferrydickson/pemerograman-dasar/blob/main/pertemuan%204.ipynb\" target=\"_parent\"><img src=\"https://colab.research.google.com/assets/colab-badge.svg\" alt=\"Open In Colab\"/></a>"
      ]
    },
    {
      "cell_type": "code",
      "execution_count": null,
      "metadata": {
        "colab": {
          "base_uri": "https://localhost:8080/"
        },
        "id": "xBDsQSE4SDKo",
        "outputId": "1d09a118-2f8e-44d3-8cd6-ce56fde55c8f"
      },
      "outputs": [
        {
          "output_type": "stream",
          "name": "stdout",
          "text": [
            "pengunjung adalah orang dewasa\n"
          ]
        }
      ],
      "source": [
        "# Variabel untuk mengetahui umur pengunjung\n",
        "umur : int = 20\n",
        "\n",
        "# Program hanya akan mencetak pesan jika umur diatas 17\n",
        "if umur > 17:\n",
        "  print(\"pengunjung adalah orang dewasa\")"
      ]
    },
    {
      "cell_type": "code",
      "source": [
        "username = input(\"admin: \")\n",
        "password = input(\"1234: \")\n",
        "\n",
        "if username == \"admin\" and password == \"1234\":\n",
        "  print(\"Login berhasil\")\n",
        "else:\n",
        "  print(\"Login gagal\")"
      ],
      "metadata": {
        "colab": {
          "base_uri": "https://localhost:8080/"
        },
        "id": "IwvSPy7kaTsd",
        "outputId": "e8b6d1f4-4caa-4f94-a2f1-cb6c38bd05e3"
      },
      "execution_count": null,
      "outputs": [
        {
          "output_type": "stream",
          "name": "stdout",
          "text": [
            "admin: admin\n",
            "1234: 1234\n",
            "Login berhasil\n"
          ]
        }
      ]
    },
    {
      "cell_type": "code",
      "source": [
        "# program untuk mengecek bonus dan diskon\n",
        "total_belanja = input(\"Total belanja: Rp \")\n",
        "# jumlah yang harus dibayar adalah berapa total belanjaannya\n",
        "# tapi kalau dapat diskon akan berkurang\n",
        "bayar = int(total_belanja)\n",
        "# jika dia belanja di atas 100rb maka berikan bonus dan diskon\n",
        "if int(total_belanja) > 100000:\n",
        "  print(\"Selamat Karena Belanja > Rp. 100.000 anda mendapat Voucer Makan \")\n",
        "  print(\"dan diskon 5%\")\n",
        "# hitung diskonnya\n",
        "diskon = int(total_belanja) * 5/100 #5%\n",
        "bayar = int(total_belanja) - diskon\n",
        "# cetak struk\n",
        "print(\"Total yang harus dibayar: Rp %s\" % bayar)\n",
        "print(\"Terima kasih sudah berbelanja di Toko kami\")\n",
        "print(\"Kami Tunggu kunjungan anda selanjutnya\")"
      ],
      "metadata": {
        "colab": {
          "base_uri": "https://localhost:8080/"
        },
        "id": "trmKRAWlcoz9",
        "outputId": "c39386e2-7d39-4fd1-88ab-53b6ea8e07b9"
      },
      "execution_count": null,
      "outputs": [
        {
          "output_type": "stream",
          "name": "stdout",
          "text": [
            "Total belanja: Rp 105000\n",
            "Selamat Karena Belanja > Rp. 100.000 anda mendapat Voucer Makan \n",
            "dan diskon 5%\n",
            "Total yang harus dibayar: Rp 99750.0\n",
            "Terima kasih sudah berbelanja di Toko kami\n",
            "Kami Tunggu kunjungan anda selanjutnya\n"
          ]
        }
      ]
    },
    {
      "cell_type": "code",
      "source": [
        "# Variabel untuk memeriksa apakah ada notifikasi baru\n",
        "ada_notifikasi_baru: bool = True\n",
        "\n",
        "if ada_notifikasi_baru:\n",
        "  print(\"Anda memiliki pesan baru!\")"
      ],
      "metadata": {
        "colab": {
          "base_uri": "https://localhost:8080/"
        },
        "id": "mqe79PeVgjKz",
        "outputId": "61a6abf0-b593-4bd0-d374-014d2b0b5209"
      },
      "execution_count": null,
      "outputs": [
        {
          "output_type": "stream",
          "name": "stdout",
          "text": [
            "Anda memiliki pesan baru!\n"
          ]
        }
      ]
    },
    {
      "cell_type": "code",
      "source": [
        "umur = input(\"Berapa umur kamu: \")\n",
        "if int(umur) >= 18:\n",
        "  print(\"Kamu boleh buat SIM\")\n",
        "else:\n",
        "  print(\"Kamu belum boleh buat SIM\")"
      ],
      "metadata": {
        "colab": {
          "base_uri": "https://localhost:8080/"
        },
        "id": "8tu3CsU3hjyz",
        "outputId": "dec8211b-9b72-427d-8cf8-4ee7cc0b5524"
      },
      "execution_count": null,
      "outputs": [
        {
          "output_type": "stream",
          "name": "stdout",
          "text": [
            "Berapa umur kamu: 21\n",
            "Kamu boleh buat SIM\n"
          ]
        }
      ]
    },
    {
      "cell_type": "code",
      "source": [
        "#asumsikan total belanja di atas 20rb\n",
        "total_belanja = 21000\n",
        "\n",
        "if total_belanja > 20000:\n",
        "  diskon = total_belanja * 0.10\n",
        "  total_bayar = total_belanja - diskon\n",
        "  print(f\"Anda mendapat diskon! Total bayar: Rp {total_bayar}\")\n",
        "else:\n",
        "  print(f\"Total bayar: Rp {total_belanja}\")"
      ],
      "metadata": {
        "colab": {
          "base_uri": "https://localhost:8080/"
        },
        "id": "A19H7rI4iV-s",
        "outputId": "13a0e1ba-7818-486e-e0bf-8a1541fe2774"
      },
      "execution_count": null,
      "outputs": [
        {
          "output_type": "stream",
          "name": "stdout",
          "text": [
            "Anda mendapat diskon! Total bayar: Rp 18900.0\n"
          ]
        }
      ]
    },
    {
      "cell_type": "code",
      "source": [
        "angka = int(input(\"Masukkan bilangan: \"))\n",
        "\n",
        "if angka % 2 == 0:\n",
        "  print(\"Bilangan Genap\")\n",
        "else:\n",
        "  print(\"Bilangan Ganjil\")"
      ],
      "metadata": {
        "colab": {
          "base_uri": "https://localhost:8080/"
        },
        "id": "gt_M1x5Nj8TD",
        "outputId": "31a2df1e-cfff-44e3-9b47-3592f9b2373f"
      },
      "execution_count": null,
      "outputs": [
        {
          "output_type": "stream",
          "name": "stdout",
          "text": [
            "Masukkan bilangan: 5\n",
            "Bilangan Ganjil\n"
          ]
        }
      ]
    },
    {
      "cell_type": "code",
      "source": [
        "nilai = 87\n",
        "if nilai >= 85:\n",
        "  print(\"Luar biasa! Nilai A\")\n",
        "elif nilai >= 70:\n",
        "  print(\"Bagus! Nilai B\")\n",
        "elif nilai >= 60:\n",
        "  print(\"Cukup. Nilai C\")\n",
        "else:\n",
        "  print(\"Nilai kurang, perlu belajar lebih giat.\")"
      ],
      "metadata": {
        "colab": {
          "base_uri": "https://localhost:8080/"
        },
        "id": "G4nkm6TLkvnT",
        "outputId": "bc939b92-16af-45b7-9400-a663885f076c"
      },
      "execution_count": null,
      "outputs": [
        {
          "output_type": "stream",
          "name": "stdout",
          "text": [
            "Luar biasa! Nilai A\n"
          ]
        }
      ]
    },
    {
      "cell_type": "code",
      "source": [
        "# Menentukan jenis diskon berdasarkan hari\n",
        "hari: str = \"Sabtu\"\n",
        "\n",
        "if hari == \"Sabtu\" or hari == \"Minggu\":\n",
        "  diskon: float = 0.20 # Diskon 20%\n",
        "  print(\"Selamat! Anda mendapat diskon akhir pekan sebesar {diskon*100%}.\")\n",
        "elif hari == \"Jumat\":\n",
        "  diskon: float = 0.15 # Diakon 15%\n",
        "  print(\"Diskon spesial Jumat! Anda mendapat potongan {diskon*100%}.\")\n",
        "else:\n",
        "  diskon: float = 0.05 # Diskon 5%\n",
        "  print(\"Anda mendapat diskon hari biasa sebesar {diskon*100%}.\")"
      ],
      "metadata": {
        "colab": {
          "base_uri": "https://localhost:8080/"
        },
        "id": "RJJ5WzN9l7i7",
        "outputId": "aaf928cc-ce0c-4ad7-e39d-6249969ac1db"
      },
      "execution_count": null,
      "outputs": [
        {
          "output_type": "stream",
          "name": "stdout",
          "text": [
            "Selamat! Anda mendapat diskon akhir pekan sebesar {diskon*100%}.\n"
          ]
        }
      ]
    },
    {
      "cell_type": "code",
      "source": [
        "rupiah = int(input(\"Masukkan jumlah uang(Rp): \"))\n",
        "print(\"1. Dollar (USD)\")\n",
        "print(\"2. Euro (EUR)\")\n",
        "print(\"3. Yen (JPY)\")\n",
        "pilih = int(input(\"Pilih konversi (1/2/3): \"))\n",
        "\n",
        "if pilih == 1:\n",
        "  print(\"Dalam Dollar:\", rupiah / 15000)\n",
        "elif pilih == 2:\n",
        "  print(\"Dalam Euro:\", rupiah / 16000)\n",
        "else:\n",
        "  print(\"Pilihan tidak valid\")"
      ],
      "metadata": {
        "colab": {
          "base_uri": "https://localhost:8080/"
        },
        "id": "vc9ST_iATPpN",
        "outputId": "833373e6-b7d1-4c99-cb8e-c1cf02a116ce"
      },
      "execution_count": null,
      "outputs": [
        {
          "output_type": "stream",
          "name": "stdout",
          "text": [
            "Masukkan jumlah uang(Rp): 1\n",
            "1. Dollar (USD)\n",
            "2. Euro (EUR)\n",
            "3. Yen (JPY)\n",
            "Pilih konversi (1/2/3): 1\n",
            "Dalam Dollar: 6.666666666666667e-05\n"
          ]
        }
      ]
    },
    {
      "cell_type": "code",
      "source": [
        "# Program Mengecek Kelipatan 5\n",
        "angka = int(input(\"Masukkan sebuah angka: \"))\n",
        "\n",
        "if angka % 5 == 0:\n",
        "    print(\"Kelipatan 5\")\n",
        "else:\n",
        "    print(\"Bukan kelipatan 5\")"
      ],
      "metadata": {
        "colab": {
          "base_uri": "https://localhost:8080/"
        },
        "id": "2vq5Skq2XhLG",
        "outputId": "362bcba5-5e66-49c8-a78d-c72b58e264d4"
      },
      "execution_count": null,
      "outputs": [
        {
          "output_type": "stream",
          "name": "stdout",
          "text": [
            "Masukkan sebuah angka: 10\n",
            "Kelipatan 5\n"
          ]
        }
      ]
    },
    {
      "cell_type": "code",
      "source": [
        "# Program Menentukan Tahun Kabisat\n",
        "tahun = int(input(\"Masukkan tahun: \"))\n",
        "\n",
        "if tahun % 400 == 0:\n",
        "    print(f\"{tahun} adalah tahun kabisat\")\n",
        "elif tahun % 4 == 0 and tahun % 100 != 0:\n",
        "    print(f\"{tahun} adalah tahun kabisat\")\n",
        "else:\n",
        "    print(f\"{tahun} bukan tahun kabisat\")"
      ],
      "metadata": {
        "colab": {
          "base_uri": "https://localhost:8080/"
        },
        "id": "5TqQfgESYOAw",
        "outputId": "d164efc1-b5e1-45ec-c475-c52834d6ef37"
      },
      "execution_count": null,
      "outputs": [
        {
          "output_type": "stream",
          "name": "stdout",
          "text": [
            "Masukkan tahun: 200\n",
            "200 bukan tahun kabisat\n"
          ]
        }
      ]
    },
    {
      "cell_type": "code",
      "source": [
        "# Soal: Program untuk menentukan grade nilai siswa\n",
        "print(\"=== PROGRAM PENENTU GRADE NILAI ===\")\n",
        "nilai = float(input(\"Masukkan nilai siswa (0-100): \"))\n",
        "\n",
        "if nilai >= 85:\n",
        "    grade = \"A\"\n",
        "    kategori = \"Sangat Baik\"\n",
        "elif nilai >= 75:\n",
        "    grade = \"B\"\n",
        "    kategori = \"Baik\"\n",
        "elif nilai >= 65:\n",
        "    grade = \"C\"\n",
        "    kategori = \"Cukup\"\n",
        "elif nilai >= 55:\n",
        "    grade = \"D\"\n",
        "    kategori = \"Kurang\"\n",
        "else:\n",
        "    grade = \"E\"\n",
        "    kategori = \"Sangat Kurang\"\n",
        "\n",
        "print(f\"Grade: {grade}\")\n",
        "print(f\"Kategori: {kategori}\")"
      ],
      "metadata": {
        "colab": {
          "base_uri": "https://localhost:8080/"
        },
        "id": "DgKfjTfwYVqj",
        "outputId": "2f04cc6f-1923-4b8c-e89a-bfeb36987543"
      },
      "execution_count": null,
      "outputs": [
        {
          "output_type": "stream",
          "name": "stdout",
          "text": [
            "=== PROGRAM PENENTU GRADE NILAI ===\n",
            "Masukkan nilai siswa (0-100): 77\n",
            "Grade: B\n",
            "Kategori: Baik\n"
          ]
        }
      ]
    },
    {
      "cell_type": "code",
      "source": [
        "# Program Konversi Angka Bulan ke Nama Bulan\n",
        "bulan = int(input(\"Masukkan angka bulan (1-12): \"))\n",
        "\n",
        "if bulan == 1:\n",
        "    print(\"Januari\")\n",
        "elif bulan == 2:\n",
        "    print(\"Februari\")\n",
        "elif bulan == 3:\n",
        "    print(\"Maret\")\n",
        "elif bulan == 4:\n",
        "    print(\"April\")\n",
        "elif bulan == 5:\n",
        "    print(\"Mei\")\n",
        "elif bulan == 6:\n",
        "    print(\"Juni\")\n",
        "elif bulan == 7:\n",
        "    print(\"Juli\")\n",
        "elif bulan == 8:\n",
        "    print(\"Agustus\")\n",
        "elif bulan == 9:\n",
        "    print(\"September\")\n",
        "elif bulan == 10:\n",
        "    print(\"Oktober\")\n",
        "elif bulan == 11:\n",
        "    print(\"November\")\n",
        "elif bulan == 12:\n",
        "    print(\"Desember\")\n",
        "else:\n",
        "    print(\"Input salah\")"
      ],
      "metadata": {
        "colab": {
          "base_uri": "https://localhost:8080/"
        },
        "id": "b2JI002PYjIz",
        "outputId": "32e884d0-0593-47d9-843d-d0655531b823"
      },
      "execution_count": null,
      "outputs": [
        {
          "output_type": "stream",
          "name": "stdout",
          "text": [
            "Masukkan angka bulan (1-12): 7\n",
            "Juli\n"
          ]
        }
      ]
    },
    {
      "cell_type": "code",
      "source": [
        "# Program Salam Berdasarkan Waktu\n",
        "jam = int(input(\"Masukkan jam (0-23): \"))\n",
        "\n",
        "if jam >= 0 and jam <= 11:\n",
        "    print(\"Selamat Pagi\")\n",
        "elif jam >= 12 and jam <= 15:\n",
        "    print(\"Selamat Siang\")\n",
        "elif jam >= 16 and jam <= 18:\n",
        "    print(\"Selamat Sore\")\n",
        "elif jam >= 19 and jam <= 23:\n",
        "    print(\"Selamat Malam\")\n",
        "else:\n",
        "    print(\"Input jam tidak valid\")"
      ],
      "metadata": {
        "colab": {
          "base_uri": "https://localhost:8080/"
        },
        "id": "d_XHVFZ_YtxO",
        "outputId": "9d4e6384-a3b9-43d8-efa4-4953dd53e122"
      },
      "execution_count": null,
      "outputs": [
        {
          "output_type": "stream",
          "name": "stdout",
          "text": [
            "Masukkan jam (0-23): 12\n",
            "Selamat Siang\n"
          ]
        }
      ]
    },
    {
      "cell_type": "code",
      "source": [
        "print(\"=\" * 40)\n",
        "print(\"SELAMAT DATANG DI KAFE GENIUM\")\n",
        "print(\"=\" * 40)\n",
        "print(\"Menu Makanan & Minuman\")\n",
        "print(\"1. Kopi Latte   - Rp 12.000\")\n",
        "print(\"2. Teh Manis    - Rp 8.000\")\n",
        "print(\"3. Roti Bakar   - Rp 15.000\")\n",
        "print(\"4. Mie Instan   - Rp 10.000\")\n",
        "print(\"=\" * 40)\n",
        "\n",
        "# Inisialisasi variabel\n",
        "total_belanja = 0\n",
        "daftar_pesanan = []\n",
        "\n",
        "# Input pesanan\n",
        "while True:\n",
        "    pilihan_str = input(\"Silahkan masukkan nomor pilihan anda (1-4) atau 'selesai' untuk mengakhiri: \")\n",
        "\n",
        "    if pilihan_str.lower() == 'selesai':\n",
        "        break\n",
        "\n",
        "    try:\n",
        "        pilihan = int(pilihan_str)\n",
        "        nama_menu = \"\"\n",
        "        harga = 0\n",
        "\n",
        "        if pilihan == 1:\n",
        "            nama_menu = \"Kopi Latte\"\n",
        "            harga = 12000\n",
        "        elif pilihan == 2:\n",
        "            nama_menu = \"Teh Manis\"\n",
        "            harga = 8000\n",
        "        elif pilihan == 3:\n",
        "            nama_menu = \"Roti Bakar\"\n",
        "            harga = 15000\n",
        "        elif pilihan == 4:\n",
        "            nama_menu = \"Mie Instan\"\n",
        "            harga = 10000\n",
        "        else:\n",
        "            print(\"Error: pilihan menu tidak valid. Silakan pilih 1-4.\")\n",
        "            continue\n",
        "\n",
        "        # Input jumlah pesanan\n",
        "        jumlah_str = input(f\"Masukkan jumlah {nama_menu}: \")\n",
        "        jumlah = int(jumlah_str)\n",
        "\n",
        "        if jumlah <= 0:\n",
        "            print(\"Error: jumlah harus lebih dari 0.\")\n",
        "            continue\n",
        "\n",
        "        subtotal = harga * jumlah\n",
        "        total_belanja += subtotal\n",
        "        daftar_pesanan.append({\n",
        "            'nama': nama_menu,\n",
        "            'harga': harga,\n",
        "            'jumlah': jumlah,\n",
        "            'subtotal': subtotal\n",
        "        })\n",
        "\n",
        "        print(f\"Anda memesan: {nama_menu} dengan harga Rp {harga:,} x {jumlah} = Rp {subtotal:,}\")\n",
        "        print(f\"Total sementara: Rp {total_belanja:,}\")\n",
        "\n",
        "    except ValueError:\n",
        "        print(\"Error: input tidak valid. Masukkan angka.\")\n",
        "\n",
        "# SISTEM DISKON BERDASARKAN KATEGORI\n",
        "print(\"\\n\" + \"=\" * 50)\n",
        "print(\"SISTEM DISKON\")\n",
        "print(\"=\" * 50)\n",
        "\n",
        "# Menentukan diskon berdasarkan total belanja\n",
        "if total_belanja >= 50000:\n",
        "    kategori = \"DIAMOND\"\n",
        "    diskon_persen = 70\n",
        "    print(\"🎉 SELAMAT! Anda mendapatkan diskon 70%\")\n",
        "elif total_belanja >= 30000:\n",
        "    kategori = \"GOLD\"\n",
        "    diskon_persen = 50\n",
        "    print(\"🎉 SELAMAT! Anda mendapatkan diskon 50%\")\n",
        "elif total_belanja >= 20000:\n",
        "    kategori = \"SILVER\"\n",
        "    diskon_persen = 30\n",
        "    print(\"🎉 SELAMAT! Anda mendapatkan diskon 30%\")\n",
        "else:\n",
        "    kategori = \"REGULAR\"\n",
        "    diskon_persen = 0\n",
        "    print(\"💡 Belanja minimal Rp 20.000 untuk mendapatkan diskon\")\n",
        "\n",
        "# Menghitung diskon dan total akhir\n",
        "diskon_nilai = total_belanja * (diskon_persen / 100)\n",
        "total_akhir = total_belanja - diskon_nilai\n",
        "\n",
        "# Proses pembayaran\n",
        "if total_belanja > 0:\n",
        "    print(\"\\n\" + \"=\" * 50)\n",
        "    print(\"RINCIAN PESANAN DAN PEMBAYARAN\")\n",
        "    print(\"=\" * 50)\n",
        "\n",
        "    # Menampilkan detail pesanan\n",
        "    print(\"DETAIL PESANAN:\")\n",
        "    for i, pesanan in enumerate(daftar_pesanan, 1):\n",
        "        print(f\"{i}. {pesanan['nama']:12} {pesanan['jumlah']:2} x Rp {pesanan['harga']:6,} = Rp {pesanan['subtotal']:7,}\")\n",
        "\n",
        "    print(\"-\" * 50)\n",
        "    print(\"RINGKASAN PEMBAYARAN:\")\n",
        "    print(f\"Total Belanja   : Rp {total_belanja:,}\")\n",
        "    print(f\"Kategori        : {kategori}\")\n",
        "    print(f\"Diskon          : {diskon_persen}%\")\n",
        "    print(f\"Nominal Diskon  : Rp {diskon_nilai:,}\")\n",
        "    print(\"=\" * 50)\n",
        "    print(f\"TOTAL AKHIR     : Rp {total_akhir:,}\")\n",
        "    print(\"=\" * 50)\n",
        "\n",
        "    # Proses pembayaran\n",
        "    while True:\n",
        "        try:\n",
        "            uang_dibayar_str = input(f\"Masukkan jumlah uang anda: Rp \")\n",
        "            uang_dibayar = int(uang_dibayar_str)\n",
        "\n",
        "            if uang_dibayar >= total_akhir:\n",
        "                kembalian = uang_dibayar - total_akhir\n",
        "\n",
        "                # CETAK STRUK RESMI\n",
        "                print(\"\\n\" + \"=\" * 50)\n",
        "                print(\"         STRUK PEMBAYARAN RESMI\")\n",
        "                print(\"=\" * 50)\n",
        "                print(\"KAFE GENIUM\")\n",
        "                print(\"=\" * 50)\n",
        "                print(\"ITEM YANG DIPESAN:\")\n",
        "                for pesanan in daftar_pesanan:\n",
        "                    print(f\"  {pesanan['nama']:15} {pesanan['jumlah']:2} x Rp {pesanan['harga']:6,}\")\n",
        "                print(\"-\" * 50)\n",
        "                print(f\"Subtotal        : Rp {total_belanja:,}\")\n",
        "                print(f\"Kategori Diskon : {kategori}\")\n",
        "                print(f\"Diskon ({diskon_persen}%)   : Rp {diskon_nilai:,}\")\n",
        "                print(f\"Total Pembayaran: Rp {total_akhir:,}\")\n",
        "                print(f\"Tunai           : Rp {uang_dibayar:,}\")\n",
        "                print(f\"Kembali         : Rp {kembalian:,}\")\n",
        "                print(\"=\" * 50)\n",
        "                print(\"     TERIMA KASIH ATAS KUNJUNGANNYA\")\n",
        "                print(\"=\" * 50)\n",
        "                break\n",
        "            else:\n",
        "                kekurangan = total_akhir - uang_dibayar\n",
        "                print(f\"Uang Anda kurang sebesar Rp {kekurangan:,}. Silakan masukkan jumlah yang cukup.\")\n",
        "        except ValueError:\n",
        "            print(\"Input tidak valid. Masukkan angka.\")"
      ],
      "metadata": {
        "id": "b43QNV2xY1VV",
        "colab": {
          "base_uri": "https://localhost:8080/"
        },
        "outputId": "4cec20ac-9907-404f-af32-aac6538dc8aa"
      },
      "execution_count": null,
      "outputs": [
        {
          "output_type": "stream",
          "name": "stdout",
          "text": [
            "========================================\n",
            "SELAMAT DATANG DI KAFE GENIUM\n",
            "========================================\n",
            "Menu Makanan & Minuman\n",
            "1. Kopi Latte   - Rp 12.000\n",
            "2. Teh Manis    - Rp 8.000\n",
            "3. Roti Bakar   - Rp 15.000\n",
            "4. Mie Instan   - Rp 10.000\n",
            "========================================\n"
          ]
        }
      ]
    }
  ]
}