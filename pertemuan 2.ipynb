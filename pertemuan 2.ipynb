{
  "nbformat": 4,
  "nbformat_minor": 0,
  "metadata": {
    "colab": {
      "provenance": [],
      "authorship_tag": "ABX9TyNsS0pBQomWeVY2VBm9UWe/",
      "include_colab_link": true
    },
    "kernelspec": {
      "name": "python3",
      "display_name": "Python 3"
    },
    "language_info": {
      "name": "python"
    }
  },
  "cells": [
    {
      "cell_type": "markdown",
      "metadata": {
        "id": "view-in-github",
        "colab_type": "text"
      },
      "source": [
        "<a href=\"https://colab.research.google.com/github/ferrydickson/pemerograman-dasar/blob/main/pertemuan%202.ipynb\" target=\"_parent\"><img src=\"https://colab.research.google.com/assets/colab-badge.svg\" alt=\"Open In Colab\"/></a>"
      ]
    },
    {
      "cell_type": "code",
      "execution_count": null,
      "metadata": {
        "colab": {
          "base_uri": "https://localhost:8080/"
        },
        "id": "oWPbX-RlMcEe",
        "outputId": "a5f51ef1-0486-429a-e544-92affeb7f254"
      },
      "outputs": [
        {
          "output_type": "stream",
          "name": "stdout",
          "text": [
            "43\n",
            "51\n",
            "34\n",
            "51\n",
            "[23, 43, 51, 34]\n"
          ]
        }
      ],
      "source": [
        "# deklarasi variabel list\n",
        "numbers = [23,43,15,34]\n",
        "# cara mengakses elemen dalam variabel list\n",
        "numbers[0] # 23\n",
        "numbers[1] # 43\n",
        "numbers[2] # 15\n",
        "numbers[3] # 34\n",
        "# cara mengubah nilai elemen dalam variabel list\n",
        "numbers[2] # 51\n",
        "numbers[2] = 51\n",
        "\n",
        "print (numbers[1])\n",
        "print (numbers[2])\n",
        "print (numbers[3])\n",
        "print (numbers[2])\n",
        "print (numbers)"
      ]
    },
    {
      "cell_type": "code",
      "source": [
        "# deklarasi variabel list number\n",
        "numbers = [1,2,3]\n",
        "\n",
        "# menambahkan elemen di indeks ke-4\n",
        "numbers.insert(4,5)   #[1,2,3,5]\n",
        "\n",
        "# mengubah elemen di indeks ke-4\n",
        "numbers[3] = 4   # [1,2,3,4]\n",
        "\n",
        "# menghapus elemen di indeks ke-2\n",
        "numbers.pop(2)   # [1,2,4]\n",
        "\n",
        "#print lalu lihat hasilnya\n",
        "print (numbers)"
      ],
      "metadata": {
        "colab": {
          "base_uri": "https://localhost:8080/"
        },
        "id": "D6aVtiBgZil9",
        "outputId": "5465f520-b4f4-4ad7-96bd-2a90404eec7d"
      },
      "execution_count": 26,
      "outputs": [
        {
          "output_type": "stream",
          "name": "stdout",
          "text": [
            "[1, 2, 4]\n"
          ]
        }
      ]
    },
    {
      "cell_type": "code",
      "source": [
        "# deklarasi variabel list number\n",
        "numbers = [1,2,3]\n",
        "\n",
        "# menambahkan elemen di indeks ke-4\n",
        "numbers.insert(4,5)   #[1,2,3,5]\n",
        "\n",
        "# mengubah elemen di indeks ke-4\n",
        "numbers[3] = 4   # [1,2,3,4]\n",
        "\n",
        "# menghapus elemen di indeks ke-2\n",
        "numbers.pop(2)   # [1,2,4]\n",
        "\n",
        "#print setiap hasil perumahan dan amati hasilnya\n",
        "print (numbers)"
      ],
      "metadata": {
        "id": "fM4E8ns3fp0B",
        "colab": {
          "base_uri": "https://localhost:8080/"
        },
        "outputId": "64a32fa5-8ab3-4548-e9d1-830b59ba559b"
      },
      "execution_count": 13,
      "outputs": [
        {
          "output_type": "stream",
          "name": "stdout",
          "text": [
            "[1, 2, 4]\n"
          ]
        }
      ]
    },
    {
      "cell_type": "code",
      "source": [
        "# deklarasi variabel list\n",
        "myList = [1,\"Rumah\",4.5, True, [\"Kamar mandi\", \"Kamar tidur\"]]\n",
        "\n",
        "# cara mengakses elemen dalam variabel list\n",
        "myList[0]   # 1\n",
        "myList[1]   # \"Rumah\"\n",
        "myList[3]   # True\n",
        "myList[4]   # ['kamar mandi', 'kamar tidur']\n",
        "\n",
        "#lakukan print lalu amati hasilnya\n",
        "print (myList[4][0])\n",
        "print (myList[4][1])"
      ],
      "metadata": {
        "id": "ZVOXZc65f476",
        "colab": {
          "base_uri": "https://localhost:8080/"
        },
        "outputId": "d6dfd72b-1b41-4f41-e4d7-90d3c0bf3a0e"
      },
      "execution_count": 28,
      "outputs": [
        {
          "output_type": "stream",
          "name": "stdout",
          "text": [
            "Kamar mandi\n",
            "Kamar tidur\n"
          ]
        }
      ]
    },
    {
      "cell_type": "code",
      "source": [
        "# deklarasi variabel tuple\n",
        "numbers = (23, 43, 15, 34)\n",
        "\n",
        "# cara mengakses elemen dalam variabel tuple\n",
        "numbers[0]   # 23\n",
        "numbers[1]   # 43\n",
        "numbers[2]   # 15\n",
        "#lakukan print lalu lihat hasilnya\n",
        "print (numbers[0])\n",
        "print (numbers[1])\n",
        "print (numbers[2])"
      ],
      "metadata": {
        "colab": {
          "base_uri": "https://localhost:8080/"
        },
        "id": "gKrBaYopoYDj",
        "outputId": "5ff84b78-f8e6-4a97-8ce8-920eeb204f9d"
      },
      "execution_count": 29,
      "outputs": [
        {
          "output_type": "stream",
          "name": "stdout",
          "text": [
            "23\n",
            "43\n",
            "15\n"
          ]
        }
      ]
    },
    {
      "cell_type": "code",
      "source": [
        "# deklarasi variabel set a dan b\n",
        "a = {1, 2, 3}\n",
        "b = {2, 3, 4}\n",
        "\n",
        "# operasi gabungan\n",
        "a.union(b)   # {1, 2, 3, 4}\n",
        "\n",
        "# operasi irisan\n",
        "a.intersection(b)   # {2, 3}\n",
        "\n",
        "# operasi perbedaan\n",
        "a.symmetric_difference(b)  # {1, 4}\n",
        "\n",
        "# lakukan print dan lihat hasilnya\n",
        "print (a.union(b))\n",
        "print (a.intersection(b))\n",
        "print (a.symmetric_difference(b))"
      ],
      "metadata": {
        "colab": {
          "base_uri": "https://localhost:8080/"
        },
        "id": "2dCAYHV2pWIm",
        "outputId": "2e12faa3-0b1a-4b7e-818d-a170f87746a2"
      },
      "execution_count": 41,
      "outputs": [
        {
          "output_type": "stream",
          "name": "stdout",
          "text": [
            "{1, 2, 3, 4}\n",
            "{2, 3}\n",
            "{1, 4}\n"
          ]
        }
      ]
    }
  ]
}